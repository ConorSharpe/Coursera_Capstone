{
 "cells": [
  {
   "cell_type": "markdown",
   "metadata": {},
   "source": [
    "## A description of the problem and a discussion of the background.\n",
    "\n",
    "An individual wishes to move to London, however he has never lived in a large city before and wishes to live in a quieter borough of London. He is a freelance writer and likes to write in local coffee shops, thus it is important he lives in an area with lots of coffee shops to choose from. This project will be focus on helping to find the best borough of London for the individual to live in."
   ]
  },
  {
   "cell_type": "markdown",
   "metadata": {},
   "source": [
    "## A description of the data and how it will be used to solve the problem. \n",
    "\n",
    "In order to find data for this project, we will scrape data from the table on the webpage :https://en.wikipedia.org/wiki/List_of_London_boroughs. This contains information on all 32 london boroughs. For this project we are interested in the name, location, area and population of the borough. The location of each borough will allow us to make a Foursquare call to identify the number of coffeee shops in ecah borough. The size and population of each  borough will allow us to calculate the population density, this will be used to identify how busy the area is."
   ]
  },
  {
   "cell_type": "code",
   "execution_count": null,
   "metadata": {},
   "outputs": [],
   "source": []
  }
 ],
 "metadata": {
  "kernelspec": {
   "display_name": "Python 3",
   "language": "python",
   "name": "python3"
  },
  "language_info": {
   "codemirror_mode": {
    "name": "ipython",
    "version": 3
   },
   "file_extension": ".py",
   "mimetype": "text/x-python",
   "name": "python",
   "nbconvert_exporter": "python",
   "pygments_lexer": "ipython3",
   "version": "3.7.6"
  }
 },
 "nbformat": 4,
 "nbformat_minor": 4
}
